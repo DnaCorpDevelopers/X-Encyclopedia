{
 "cells": [
  {
   "cell_type": "code",
   "execution_count": 39,
   "metadata": {},
   "outputs": [],
   "source": [
    "import json\n",
    "from pprint import pprint"
   ]
  },
  {
   "cell_type": "code",
   "execution_count": 46,
   "metadata": {},
   "outputs": [],
   "source": [
    "with open('../db/dump.json', 'r') as f:\n",
    "    dump = json.load(f)"
   ]
  },
  {
   "cell_type": "code",
   "execution_count": 3,
   "metadata": {},
   "outputs": [
    {
     "data": {
      "text/plain": [
       "dict_keys(['shipProduction', 'shipHangars', 'sectorGateTypes', 'equipmentTypes', 'equipments', 'stationProducts', 'objSubtypeStation', 'stationResources', 'drones', 'sectorShipyardShips', 'sectorDebries', 'missileSpecs', 'weaponSpecs', 'shipMissiles', 'objMain', 'sectorSpaceportEquipments', 'sectors', 'shipCockpitWeapon', 'weapons', 'weaponSpecDatas', 'shieldTypes', 'stationResourceSecondaries', 'objSubtypeShip', 'productTypes', 'sectorGates', 'gamestarts', 'sectorShipyardStations', 'shields', 'sectorShips', 'stationClasses', 'weaponTypes', 'ships', 'products', 'shipMissileGroups', 'sectorSpaceportProducts', 'missileSpecOpts', 'versions', 'sectorAteroids', 'sectorStations', 'shipClasses', 'stationTypes', 'races', 'missiles', 'shipCockpits', 'missileTypes'])"
      ]
     },
     "execution_count": 3,
     "metadata": {},
     "output_type": "execute_result"
    }
   ],
   "source": [
    "dump.keys()"
   ]
  },
  {
   "cell_type": "code",
   "execution_count": 28,
   "metadata": {},
   "outputs": [],
   "source": [
    "def identitize(key):\n",
    "    return {v['id']: v for v in dump[key]}"
   ]
  },
  {
   "cell_type": "code",
   "execution_count": 29,
   "metadata": {},
   "outputs": [],
   "source": [
    "classes = identitize('shipClasses')"
   ]
  },
  {
   "cell_type": "code",
   "execution_count": 17,
   "metadata": {},
   "outputs": [],
   "source": [
    "races = identitize('races')"
   ]
  },
  {
   "cell_type": "code",
   "execution_count": 32,
   "metadata": {},
   "outputs": [],
   "source": [
    "shields = identitize('shields')"
   ]
  },
  {
   "cell_type": "code",
   "execution_count": 48,
   "metadata": {},
   "outputs": [],
   "source": [
    "def fixShip(ship: dict):\n",
    "    ship['race'] = races[ship['idRace']]['name']\n",
    "    ship['class'] = classes[ship['idClass']]['name']\n",
    "    ship['shields'] = shields[ship['shieldsType']]\n",
    "    ship.pop('idRace', None)\n",
    "    ship.pop('idClass', None)\n",
    "    ship.pop('shieldsType', None)\n",
    "    ship.pop('id')\n",
    "    \n",
    "    return ship"
   ]
  },
  {
   "cell_type": "code",
   "execution_count": 50,
   "metadata": {},
   "outputs": [
    {
     "name": "stdout",
     "output_type": "stream",
     "text": [
      "{'accelMax': 6.3,\n",
      " 'accelMin': 3.9,\n",
      " 'cargoMax': 8800,\n",
      " 'cargoMin': 8800,\n",
      " 'cargoType': 'XL',\n",
      " 'class': 'M1',\n",
      " 'crMax': 67823062,\n",
      " 'crMin': 0,\n",
      " 'descr': 'L&#39;Argon Colossus &egrave; una Carrier con un hangar molto '\n",
      "          'capiente. Questa nave &egrave; stata rinnovata, riprogettata, '\n",
      "          'ripensata e aggiornata numerose volte. Il modello attuale &egrave; '\n",
      "          'stato pensato per operare a distanza dalla battaglia. Nonostante '\n",
      "          'questa nave sia dotata di un armamento da incrociatore, il suo '\n",
      "          'generatore non permette di sostenere lunghi scontri. Spesso i '\n",
      "          'capitani di questi vascelli preferiscono sacrificare completamente '\n",
      "          'l&#39;armamento offensivo in favore di uno sbarramento anti-caccia '\n",
      "          'pesante. La vera forza di questa nave sta nelle sue squadriglie di '\n",
      "          'caccia, che vengono usate sia per l&#39;attacco che per la difesa.',\n",
      " 'hangar': 60,\n",
      " 'hull': 400000,\n",
      " 'name': 'Colossus',\n",
      " 'race': 'Argon',\n",
      " 'shields': {'enRechanrge': 2000,\n",
      "             'energy': 2000,\n",
      "             'id': 6,\n",
      "             'idProduct': 37,\n",
      "             'idType': 3,\n",
      "             'rechanrgeRate': 2000,\n",
      "             'rechargeTime': 1000},\n",
      " 'shieldsGen': 8200,\n",
      " 'shieldsNum': 3,\n",
      " 'speedMax': 79.0,\n",
      " 'speedMin': 49.0,\n",
      " 'steerMax': 0.66,\n",
      " 'steerMin': 0.41,\n",
      " 'version': 35,\n",
      " 'weapEne': 53200,\n",
      " 'weapGen': 798}\n"
     ]
    }
   ],
   "source": [
    "pprint(fixShip(dump['ships'][0]))"
   ]
  },
  {
   "cell_type": "code",
   "execution_count": null,
   "metadata": {},
   "outputs": [],
   "source": []
  }
 ],
 "metadata": {
  "kernelspec": {
   "display_name": "Python 3",
   "language": "python",
   "name": "python3"
  },
  "language_info": {
   "codemirror_mode": {
    "name": "ipython",
    "version": 3
   },
   "file_extension": ".py",
   "mimetype": "text/x-python",
   "name": "python",
   "nbconvert_exporter": "python",
   "pygments_lexer": "ipython3",
   "version": "3.5.5"
  }
 },
 "nbformat": 4,
 "nbformat_minor": 2
}
