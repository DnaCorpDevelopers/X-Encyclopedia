{
 "cells": [
  {
   "cell_type": "code",
   "execution_count": 1,
   "metadata": {},
   "outputs": [],
   "source": [
    "import json\n",
    "from pprint import pprint\n",
    "from os import listdir\n",
    "from os.path import isfile, join"
   ]
  },
  {
   "cell_type": "code",
   "execution_count": 88,
   "metadata": {},
   "outputs": [],
   "source": [
    "dump = {}\n",
    "for fname in listdir('../db/'):\n",
    "    with open('../db/' + fname, 'r') as f:\n",
    "        dump[fname.split('.')[0]] = json.load(f)"
   ]
  },
  {
   "cell_type": "code",
   "execution_count": 52,
   "metadata": {
    "scrolled": true
   },
   "outputs": [
    {
     "data": {
      "text/plain": [
       "['drones',\n",
       " 'equipmentTypes',\n",
       " 'equipments',\n",
       " 'gamestarts',\n",
       " 'missileSpecOpts',\n",
       " 'missileSpecs',\n",
       " 'missileTypes',\n",
       " 'missiles',\n",
       " 'objMain',\n",
       " 'objSubtypeShip',\n",
       " 'objSubtypeStation',\n",
       " 'productTypes',\n",
       " 'products',\n",
       " 'races',\n",
       " 'sectorAteroids',\n",
       " 'sectorDebries',\n",
       " 'sectorGateTypes',\n",
       " 'sectorGates',\n",
       " 'sectorShips',\n",
       " 'sectorShipyardShips',\n",
       " 'sectorShipyardStations',\n",
       " 'sectorSpaceportEquipments',\n",
       " 'sectorSpaceportProducts',\n",
       " 'sectorStations',\n",
       " 'sectors',\n",
       " 'shieldTypes',\n",
       " 'shields',\n",
       " 'shipClasses',\n",
       " 'shipCockpitWeapon',\n",
       " 'shipCockpits',\n",
       " 'shipHangars',\n",
       " 'shipMissileGroups',\n",
       " 'shipMissiles',\n",
       " 'shipProduction',\n",
       " 'ships',\n",
       " 'stationClasses',\n",
       " 'stationProducts',\n",
       " 'stationResourceSecondaries',\n",
       " 'stationResources',\n",
       " 'stationTypes',\n",
       " 'versions',\n",
       " 'weaponSpecDatas',\n",
       " 'weaponSpecs',\n",
       " 'weaponTypes',\n",
       " 'weapons']"
      ]
     },
     "execution_count": 52,
     "metadata": {},
     "output_type": "execute_result"
    }
   ],
   "source": [
    "sorted(list(dump.keys()))"
   ]
  },
  {
   "cell_type": "code",
   "execution_count": 47,
   "metadata": {},
   "outputs": [],
   "source": [
    "def tc(version):\n",
    "    return version <= 35\n",
    "\n",
    "def ap(version):\n",
    "    return version >= 35"
   ]
  },
  {
   "cell_type": "code",
   "execution_count": 48,
   "metadata": {},
   "outputs": [],
   "source": [
    "def v(version):\n",
    "    return tc(version)"
   ]
  },
  {
   "cell_type": "code",
   "execution_count": 134,
   "metadata": {},
   "outputs": [],
   "source": [
    "def identitize(key):\n",
    "    if 'version' in dump[key][1]:\n",
    "        return {x['id']: x for x in dump[key] if v(x['version'])}\n",
    "    return {x['id']: x for x in dump[key]}"
   ]
  },
  {
   "cell_type": "markdown",
   "metadata": {},
   "source": [
    "## Products "
   ]
  },
  {
   "cell_type": "code",
   "execution_count": 135,
   "metadata": {},
   "outputs": [],
   "source": [
    "rawProducts = identitize('products')"
   ]
  },
  {
   "cell_type": "code",
   "execution_count": 136,
   "metadata": {},
   "outputs": [],
   "source": [
    "rawProductTypes = identitize('productTypes')"
   ]
  },
  {
   "cell_type": "code",
   "execution_count": 137,
   "metadata": {},
   "outputs": [],
   "source": [
    "def fixProducts(i):\n",
    "    product = rawProducts[i].copy()\n",
    "    product['type'] = rawProductTypes[product['idType']].copy()\n",
    "    product.pop('idType', None)\n",
    "    product['type'].pop('id', None)\n",
    "    \n",
    "    return product"
   ]
  },
  {
   "cell_type": "code",
   "execution_count": 138,
   "metadata": {},
   "outputs": [],
   "source": [
    "products = {p: fixProducts(p) for p in rawProducts}"
   ]
  },
  {
   "cell_type": "code",
   "execution_count": 139,
   "metadata": {},
   "outputs": [
    {
     "name": "stdout",
     "output_type": "stream",
     "text": [
      "{'cargo': 1,\n",
      " 'crMax': 20,\n",
      " 'crMed': 16,\n",
      " 'crMin': 12,\n",
      " 'descr': 'Le Celle di energia sono l&#39;unit&agrave; di accumulo di energia '\n",
      "          'usata in tutto l&#39;universo conosciuto. L&#39;unificazione delle '\n",
      "          'unit&agrave; di energia permette il commercio interstellare di '\n",
      "          'quasi tutti i prodotti di base.',\n",
      " 'id': 1,\n",
      " 'idGame': 'SS_WARE_ENERGY',\n",
      " 'name': 'Celle di Energia',\n",
      " 'type': {'descr': \"Fonti di energia attualmente in uso nell'universo.\",\n",
      "          'name': 'Energia'}}\n"
     ]
    }
   ],
   "source": [
    "pprint(products[1])"
   ]
  },
  {
   "cell_type": "markdown",
   "metadata": {},
   "source": [
    "## Weapons"
   ]
  },
  {
   "cell_type": "code",
   "execution_count": 140,
   "metadata": {},
   "outputs": [],
   "source": [
    "rawWeapons = identitize('weapons')"
   ]
  },
  {
   "cell_type": "code",
   "execution_count": 141,
   "metadata": {},
   "outputs": [],
   "source": [
    "rawWeaponTypes = identitize('weaponTypes')"
   ]
  },
  {
   "cell_type": "code",
   "execution_count": 142,
   "metadata": {},
   "outputs": [],
   "source": [
    "rawWeaponSpecs = identitize('weaponSpecs')"
   ]
  },
  {
   "cell_type": "code",
   "execution_count": 143,
   "metadata": {},
   "outputs": [],
   "source": [
    "rawWeaponSpecDatas = [x for x in dump['weaponSpecDatas'] if v(x['version'])]"
   ]
  },
  {
   "cell_type": "code",
   "execution_count": 144,
   "metadata": {},
   "outputs": [],
   "source": [
    "def fixWeapons(i):\n",
    "    weapon = rawWeapons[i].copy()\n",
    "    weapon['product'] = products[weapon['idProduct']]\n",
    "    weapon['type'] = rawWeaponTypes[weapon['idType']].copy()\n",
    "    weapon['specs'] = []\n",
    "    for x in rawWeaponSpecDatas:\n",
    "        if x['id'] == weapon['id']:\n",
    "            spec = rawWeaponSpecs[x['idSpec']].copy()\n",
    "            spec.pop('id', None)\n",
    "            weapon['specs'].append(spec)\n",
    "    \n",
    "    weapon.pop('idType', None)\n",
    "    weapon['type'].pop('id', None)\n",
    "    weapon.pop('idSpec', None)\n",
    "    weapon.pop('idProduct', None)\n",
    "    \n",
    "    return weapon"
   ]
  },
  {
   "cell_type": "code",
   "execution_count": 146,
   "metadata": {},
   "outputs": [],
   "source": [
    "weapons = {w: fixWeapons(w) for w in rawWeapons}"
   ]
  },
  {
   "cell_type": "code",
   "execution_count": 147,
   "metadata": {},
   "outputs": [
    {
     "data": {
      "text/plain": [
       "{'ammo': 0,\n",
       " 'dmgHull': 0.0,\n",
       " 'dmgShield': 0.0,\n",
       " 'enMin': 7000,\n",
       " 'enShot': 1000,\n",
       " 'id': 8,\n",
       " 'oosHull': 0.0,\n",
       " 'oosShield': 0.0,\n",
       " 'product': {'cargo': 50,\n",
       "  'crMax': 794669,\n",
       "  'crMed': 779088,\n",
       "  'crMin': 763507,\n",
       "  'descr': 'Il Raggio Traente viene usato per spostare oggetti nello spazio.<br/><br/>Incredibile come un dispositivo cos&igrave; complesso abbia una descrizione cos&igrave; semplice, vero?',\n",
       "  'id': 56,\n",
       "  'idGame': 'SS_LASER_TUG',\n",
       "  'name': 'Raggio Traente',\n",
       "  'type': {'descr': 'Armi usate nelle astronavi.', 'name': 'Armi'}},\n",
       " 'range': 2.0,\n",
       " 'rate': 120.0,\n",
       " 'specs': [{'descr': \"L'arma produce un fascio di particelle continuo.\",\n",
       "   'spec': 'Arma a raggio'}],\n",
       " 'speed': 4000.0,\n",
       " 'type': {'descr': 'Armi inoffensive utilizzate per operazioni di carattere civile.',\n",
       "  'name': 'Civile'},\n",
       " 'version': 35}"
      ]
     },
     "execution_count": 147,
     "metadata": {},
     "output_type": "execute_result"
    }
   ],
   "source": [
    "weapons[8]"
   ]
  },
  {
   "cell_type": "markdown",
   "metadata": {},
   "source": [
    "## Missiles"
   ]
  },
  {
   "cell_type": "code",
   "execution_count": 148,
   "metadata": {},
   "outputs": [],
   "source": [
    "rawMissiles = identitize('missiles')"
   ]
  },
  {
   "cell_type": "code",
   "execution_count": 149,
   "metadata": {},
   "outputs": [],
   "source": [
    "rawMissileTypes = identitize('missileTypes')"
   ]
  },
  {
   "cell_type": "code",
   "execution_count": 150,
   "metadata": {},
   "outputs": [],
   "source": [
    "rawMissileSpecOpts = identitize('missileSpecOpts')"
   ]
  },
  {
   "cell_type": "code",
   "execution_count": 151,
   "metadata": {},
   "outputs": [],
   "source": [
    "rawMissileSpecs = [x for x in dump['missileSpecs'] if v(x['version'])]"
   ]
  },
  {
   "cell_type": "code",
   "execution_count": 153,
   "metadata": {},
   "outputs": [],
   "source": [
    "def fixMissiles(i):\n",
    "    missile = rawMissiles[i].copy()\n",
    "    missile['product'] = products[missile['idProduct']]\n",
    "    missile['type'] = rawMissileTypes[missile['idType']].copy()\n",
    "    missile['specs'] = []\n",
    "    for x in rawMissileSpecs:\n",
    "        if x['id'] == missile['id'] and v(x['version']):\n",
    "            opt = rawMissileSpecOpts[x['idSpec']].copy()\n",
    "            opt.pop('id', None)\n",
    "            missile['specs'].append(opt)\n",
    "    \n",
    "    missile.pop('idType', None)\n",
    "    missile['type'].pop('id', None)\n",
    "    missile.pop('idSpec', None)\n",
    "    missile.pop('idProduct', None)\n",
    "    \n",
    "    return missile"
   ]
  },
  {
   "cell_type": "code",
   "execution_count": 154,
   "metadata": {},
   "outputs": [],
   "source": [
    "missiles = {m: fixMissiles(m) for m in rawMissiles}"
   ]
  },
  {
   "cell_type": "code",
   "execution_count": 155,
   "metadata": {},
   "outputs": [
    {
     "data": {
      "text/plain": [
       "{'accel': 132.0,\n",
       " 'area': 150.0,\n",
       " 'dmg': 300000.0,\n",
       " 'fuel': 300.0,\n",
       " 'id': 1,\n",
       " 'product': {'cargo': 20,\n",
       "  'crMax': 54073,\n",
       "  'crMed': 50536,\n",
       "  'crMin': 46999,\n",
       "  'descr': 'Questo missile &egrave; stato progettato come grande torpedine anti-capital e pu&ograve; essere usato con un lancio a grappolo specialmente dalle fregate missilistiche. L&#39;Hammer Heavy Torpedo combina una grande testata con una discreta velocit&agrave; e una buona manovrabilit&agrave;. Queste caratteristiche sono rese possibili grazie ad un sistema di lancio creato appositamente ed installato su una classe di nave appositamente creata per il lancio di missili.',\n",
       "  'id': 109,\n",
       "  'idGame': 'SS_MISSILE_TORP_CAPITAL',\n",
       "  'name': 'Hammer Heavy Torpedo',\n",
       "  'type': {'descr': 'Proiettili propellenti spesso auto-guidati urilizzati dalle navi.',\n",
       "   'name': 'Missili'}},\n",
       " 'range': 75.9,\n",
       " 'rate': 0.1,\n",
       " 'reload': 1.25,\n",
       " 'specs': [{'descr': 'Il missile detona in prossimitÃ\\xa0Â\\xa0 di un bersaglio.',\n",
       "   'name': 'Innesco di prossimitÃ\\xa0'},\n",
       "  {'descr': 'Missili ad alto potenziale esplosivo: la loro detonazione Ã¨ devastante!',\n",
       "   'name': 'Torpedine'}],\n",
       " 'speed': 253.0,\n",
       " 'type': {'descr': 'Missili ad alto potenziale lanciati da Bombardieri e Fregate Missilistiche.',\n",
       "  'name': 'Torpedini'},\n",
       " 'version': 35}"
      ]
     },
     "execution_count": 155,
     "metadata": {},
     "output_type": "execute_result"
    }
   ],
   "source": [
    "missiles[1]"
   ]
  },
  {
   "cell_type": "markdown",
   "metadata": {},
   "source": [
    "## Shields"
   ]
  },
  {
   "cell_type": "code",
   "execution_count": 156,
   "metadata": {},
   "outputs": [],
   "source": [
    "rawShields = identitize('shields')"
   ]
  },
  {
   "cell_type": "code",
   "execution_count": 157,
   "metadata": {},
   "outputs": [],
   "source": [
    "rawShieldTypes = identitize('shieldTypes')"
   ]
  },
  {
   "cell_type": "code",
   "execution_count": 158,
   "metadata": {},
   "outputs": [],
   "source": [
    "def fixShields(i):\n",
    "    shield = rawShields[i].copy()\n",
    "    shield['product'] = products[shield['idProduct']]\n",
    "    shield['type'] = rawShieldTypes[shield['idType']].copy()\n",
    "    \n",
    "    shield.pop('idType', None)\n",
    "    shield['type'].pop('id', None)\n",
    "    shield.pop('idProduct', None)\n",
    "    \n",
    "    return shield"
   ]
  },
  {
   "cell_type": "code",
   "execution_count": 159,
   "metadata": {},
   "outputs": [],
   "source": [
    "shields = {s: fixShields(s) for s in rawShields}"
   ]
  },
  {
   "cell_type": "code",
   "execution_count": 160,
   "metadata": {},
   "outputs": [
    {
     "data": {
      "text/plain": [
       "{'enRechanrge': 33,\n",
       " 'energy': 1,\n",
       " 'id': 1,\n",
       " 'product': {'cargo': 1,\n",
       "  'crMax': 6230,\n",
       "  'crMed': 5192,\n",
       "  'crMin': 4154,\n",
       "  'descr': 'Questo scudo &egrave; uno dei primissimi dispositivi di difesa inventati nel corso della storia. Originariamente era pensato come semplice deflettore per detriti spaziali e micro meteoriti. Attualmente questo scudo viene utilizzato su piccoli caccia, ricognitori e alcuni droni.',\n",
       "  'id': 36,\n",
       "  'idGame': 'SS_SHIELD_A',\n",
       "  'name': 'Scudo da 1MJ',\n",
       "  'type': {'descr': 'Scudi energetici usati sulle navi.', 'name': 'Scudi'}},\n",
       " 'rechanrgeRate': 33,\n",
       " 'rechargeTime': 30,\n",
       " 'type': {'descr': 'Scudi utilizzati da piccole navi e droni.',\n",
       "  'name': 'Leggero'}}"
      ]
     },
     "execution_count": 160,
     "metadata": {},
     "output_type": "execute_result"
    }
   ],
   "source": [
    "shields[1]"
   ]
  },
  {
   "cell_type": "markdown",
   "metadata": {},
   "source": [
    "## Ships"
   ]
  },
  {
   "cell_type": "code",
   "execution_count": 161,
   "metadata": {},
   "outputs": [],
   "source": [
    "rawClasses = identitize('shipClasses')"
   ]
  },
  {
   "cell_type": "code",
   "execution_count": 162,
   "metadata": {},
   "outputs": [],
   "source": [
    "rawRaces = identitize('races')"
   ]
  },
  {
   "cell_type": "code",
   "execution_count": 163,
   "metadata": {},
   "outputs": [],
   "source": [
    "rawShips = identitize('ships')"
   ]
  },
  {
   "cell_type": "code",
   "execution_count": 172,
   "metadata": {},
   "outputs": [],
   "source": [
    "def fixShip(i):\n",
    "    ship = rawShips[i].copy()\n",
    "    ship['race'] = rawRaces[ship['idRace']].copy()\n",
    "    ship['class'] = rawClasses[ship['idClass']].copy()\n",
    "    ship['shields'] = shields[ship['shieldsType']].copy()\n",
    "    \n",
    "    ship.pop('idRace', None)\n",
    "    ship.pop('idClass', None)\n",
    "    ship.pop('shieldsType', None)\n",
    "    ship.pop('id')\n",
    "    ship['race'].pop('id', None)\n",
    "    \n",
    "    return ship"
   ]
  },
  {
   "cell_type": "code",
   "execution_count": 173,
   "metadata": {},
   "outputs": [
    {
     "name": "stdout",
     "output_type": "stream",
     "text": [
      "{'accelMax': 8.4,\n",
      " 'accelMin': 5.2,\n",
      " 'cargoMax': 3600,\n",
      " 'cargoMin': 2000,\n",
      " 'cargoType': 'XL',\n",
      " 'class': {'descr': 'Fregata', 'id': 10, 'idGame': 'SS_SG_M7', 'name': 'M7'},\n",
      " 'crMax': 38237260,\n",
      " 'crMin': 1,\n",
      " 'descr': 'Nata come Fregata multiruolo, il Paranid Agamemnon non ha avuto il '\n",
      "          'successo sperato. Il progetto &egrave; stato abbandonato dopo i '\n",
      "          'primi modelli prodotti a causa di numerosi incidenti con i '\n",
      "          'Generatori di Fase. Questa nave, infatti, doveva essere la prima di '\n",
      "          'una lunga stirpe di navi armate con queste armi. I pochi modelli '\n",
      "          'ancora in uso sono posseduti dall&#39;esercito Paranid che li '\n",
      "          'utilizza nelle pattuglie dei settori Anarchici.<br/><br/><span '\n",
      "          'style=&#39;color: orange&#39;>I pochi modelli prodotti sono '\n",
      "          'utilizzati dalla Sacra Marina Paranid.</span>',\n",
      " 'hangar': None,\n",
      " 'hull': 150000,\n",
      " 'name': 'Agamemnon',\n",
      " 'race': {'extended': 'Impero Paranid', 'name': 'Paranid'},\n",
      " 'shields': {'enRechanrge': 2000,\n",
      "             'energy': 1000,\n",
      "             'id': 5,\n",
      "             'product': {'cargo': 77,\n",
      "                         'crMax': 323101,\n",
      "                         'crMed': 299168,\n",
      "                         'crMin': 275235,\n",
      "                         'descr': 'Lo scudo da 1 GJ &egrave; uno dei '\n",
      "                                  'pi&ugrave; potenti sistemi di protezione '\n",
      "                                  'conosciuti nell&#39;universo. In principio '\n",
      "                                  'questo scudo era utilizzato principalmente '\n",
      "                                  'su Carrier e Incrociatori. Successivamente '\n",
      "                                  'questa protezione divent&ograve; troppo '\n",
      "                                  'costosa per queste navi e fu rimpiazza da '\n",
      "                                  'nuovi scudi. Lo scudo da 1 GJ viene usati '\n",
      "                                  'esclusivamente sulle Fregate.',\n",
      "                         'id': 35,\n",
      "                         'idGame': 'SS_SHIELD_E',\n",
      "                         'name': 'Scudo da 1GJ',\n",
      "                         'type': {'descr': 'Scudi energetici usati sulle navi.',\n",
      "                                  'name': 'Scudi'}},\n",
      "             'rechanrgeRate': 2000,\n",
      "             'rechargeTime': 500,\n",
      "             'type': {'descr': 'Scudi utilizzati da grandi navi e stazioni.',\n",
      "                      'name': 'Pesante'}},\n",
      " 'shieldsGen': 6100,\n",
      " 'shieldsNum': 6,\n",
      " 'speedMax': 108.0,\n",
      " 'speedMin': 64.0,\n",
      " 'steerMax': 2.96,\n",
      " 'steerMin': 1.85,\n",
      " 'version': 35,\n",
      " 'weapEne': 62000,\n",
      " 'weapGen': 1550}\n"
     ]
    }
   ],
   "source": [
    "pprint(fixShip(42))"
   ]
  },
  {
   "cell_type": "code",
   "execution_count": null,
   "metadata": {},
   "outputs": [],
   "source": []
  }
 ],
 "metadata": {
  "kernelspec": {
   "display_name": "Python 3",
   "language": "python",
   "name": "python3"
  },
  "language_info": {
   "codemirror_mode": {
    "name": "ipython",
    "version": 3
   },
   "file_extension": ".py",
   "mimetype": "text/x-python",
   "name": "python",
   "nbconvert_exporter": "python",
   "pygments_lexer": "ipython3",
   "version": "3.5.5"
  }
 },
 "nbformat": 4,
 "nbformat_minor": 2
}
