{
 "cells": [
  {
   "cell_type": "code",
   "execution_count": 1,
   "metadata": {},
   "outputs": [
    {
     "name": "stdout",
     "output_type": "stream",
     "text": [
      "Requirement already satisfied: mysqlclient in /home/dna/anaconda3/envs/discord/lib/python3.5/site-packages (1.3.13)\r\n"
     ]
    }
   ],
   "source": [
    "!pip install mysqlclient"
   ]
  },
  {
   "cell_type": "code",
   "execution_count": 2,
   "metadata": {},
   "outputs": [],
   "source": [
    "import MySQLdb\n",
    "import json"
   ]
  },
  {
   "cell_type": "code",
   "execution_count": 3,
   "metadata": {},
   "outputs": [],
   "source": [
    "with open('pass.txt', 'r') as f:\n",
    "    toks = f.read().strip().split(':')\n",
    "    user = toks[0]\n",
    "    password = toks[1]"
   ]
  },
  {
   "cell_type": "code",
   "execution_count": 4,
   "metadata": {},
   "outputs": [],
   "source": [
    "db = MySQLdb.connect(host='localhost',\n",
    "                    user=user,\n",
    "                    passwd=password,\n",
    "                    db='dnacorp')"
   ]
  },
  {
   "cell_type": "code",
   "execution_count": 5,
   "metadata": {},
   "outputs": [],
   "source": [
    "cur = db.cursor()"
   ]
  },
  {
   "cell_type": "code",
   "execution_count": 6,
   "metadata": {},
   "outputs": [],
   "source": [
    "def fields(table):\n",
    "    cur.execute('desc ' + table)\n",
    "    return [column[0] for column in cur.fetchall()]"
   ]
  },
  {
   "cell_type": "code",
   "execution_count": 7,
   "metadata": {},
   "outputs": [],
   "source": [
    "def data(table):\n",
    "    cur.execute('select * from ' + table)\n",
    "    return [row for row in cur.fetchall()]"
   ]
  },
  {
   "cell_type": "code",
   "execution_count": 8,
   "metadata": {},
   "outputs": [],
   "source": [
    "def extractRecord(fields, data):\n",
    "    record = {}\n",
    "    for i in range(len(fields)):\n",
    "        record[fields[i]] = data[i]\n",
    "    return record\n",
    "\n",
    "def extract(table, fs=None):\n",
    "    if fs is None:\n",
    "        fs = fields(table)\n",
    "    d = data(table)\n",
    "    return [\n",
    "        extractRecord(fs, r)\n",
    "        for r in d\n",
    "    ]"
   ]
  },
  {
   "cell_type": "code",
   "execution_count": 9,
   "metadata": {},
   "outputs": [],
   "source": [
    "dbDump = {}"
   ]
  },
  {
   "cell_type": "code",
   "execution_count": 10,
   "metadata": {},
   "outputs": [],
   "source": [
    "dbDump['weapons'] = extract('armi', ['id', 'idProduct', 'dmgHull', 'dmgShield', 'range', 'speed',\n",
    "                                     'rate', 'idSpec', 'idType', 'ammo', 'enShot', 'enMin', 'oosHull',\n",
    "                                     'oosShield', 'version'])"
   ]
  },
  {
   "cell_type": "code",
   "execution_count": 11,
   "metadata": {},
   "outputs": [],
   "source": [
    "dbDump['weaponSpecs'] = extract('armi_spec', ['id', 'spec', 'descr'])"
   ]
  },
  {
   "cell_type": "code",
   "execution_count": 12,
   "metadata": {},
   "outputs": [],
   "source": [
    "dbDump['weaponSpecDatas'] = extract('armi_spec_data', ['id', 'idSpec', 'version', 'mod1', 'mod2'])"
   ]
  },
  {
   "cell_type": "code",
   "execution_count": 13,
   "metadata": {},
   "outputs": [],
   "source": [
    "dbDump['weaponTypes'] = extract('armi_tipo', ['id', 'name', 'descr'])"
   ]
  },
  {
   "cell_type": "code",
   "execution_count": 14,
   "metadata": {},
   "outputs": [],
   "source": [
    "dbDump['shipClasses'] = extract('classi', ['id', 'name', 'descr', 'idGame'])"
   ]
  },
  {
   "cell_type": "code",
   "execution_count": 15,
   "metadata": {},
   "outputs": [],
   "source": [
    "dbDump['drones'] = extract('droni', ['id', 'speed', 'accel', 'man', 'shieldsNum', 'shieldsType',\n",
    "                                     'shieldsGen', 'energy', 'enRecharge', 'cargo', 'type'])"
   ]
  },
  {
   "cell_type": "code",
   "execution_count": 16,
   "metadata": {},
   "outputs": [],
   "source": [
    "dbDump['equipments'] = extract('equipaggiamenti', ['id', 'idProduct', 'function', 'idType'])"
   ]
  },
  {
   "cell_type": "code",
   "execution_count": 17,
   "metadata": {},
   "outputs": [],
   "source": [
    "dbDump['equipmentTypes'] = extract('equipaggiamenti_tipo', ['id', 'name', 'descr'])"
   ]
  },
  {
   "cell_type": "code",
   "execution_count": 18,
   "metadata": {},
   "outputs": [],
   "source": [
    "dbDump['gamestarts'] =extract('gamestart', ['id', 'name', 'diff'])"
   ]
  },
  {
   "cell_type": "code",
   "execution_count": 19,
   "metadata": {},
   "outputs": [],
   "source": [
    "dbDump['missiles'] = extract('missili', ['id', 'idProduct', 'dmg', 'speed', 'accel', 'range', 'fuel', 'area', \n",
    "                                         'rate', 'reload', 'idType', 'version'])"
   ]
  },
  {
   "cell_type": "code",
   "execution_count": 20,
   "metadata": {},
   "outputs": [],
   "source": [
    "dbDump['missileSpecs'] = extract('missili_spec', ['id', 'name', 'descr'])"
   ]
  },
  {
   "cell_type": "code",
   "execution_count": 21,
   "metadata": {},
   "outputs": [],
   "source": [
    "dbDump['missileSpecOpts'] = extract('missili_spec_opt', ['id', 'name', 'descr'])"
   ]
  },
  {
   "cell_type": "code",
   "execution_count": 22,
   "metadata": {},
   "outputs": [],
   "source": [
    "dbDump['missileTypes'] = extract('missili_tipo', ['id', 'name', 'descr'])"
   ]
  },
  {
   "cell_type": "code",
   "execution_count": 23,
   "metadata": {},
   "outputs": [],
   "source": [
    "dbDump['ships'] = extract('navi', ['id', 'name', 'speedMin', 'speedMax', 'accelMin', 'accelMax', 'steerMin', \n",
    "                                   'steerMax', 'cargoMin', 'cargoMax', 'cargoType', 'hull', 'weapEne', \n",
    "                                   'weapGen', 'idRace', 'idClass', 'hangar', 'shieldsNum', 'shieldsType', \n",
    "                                   'shieldsGen', 'descr', 'crMin', 'crMax', 'version'])"
   ]
  },
  {
   "cell_type": "code",
   "execution_count": 24,
   "metadata": {},
   "outputs": [],
   "source": [
    "dbDump['shipCockpits'] = extract('navi_cockpit', ['id', 'idShip', 'version', 'idCockpit', 'location', 'num'])"
   ]
  },
  {
   "cell_type": "code",
   "execution_count": 25,
   "metadata": {},
   "outputs": [],
   "source": [
    "dbDump['shipCockpitWeapon'] = extract('navi_cockpit_armamento', ['idCockpit', 'idWeapon', 'version'])"
   ]
  },
  {
   "cell_type": "code",
   "execution_count": 26,
   "metadata": {},
   "outputs": [],
   "source": [
    "dbDump['shipHangars'] = extract('navi_hangar', ['idShip','version', 'idClass', 'num'])"
   ]
  },
  {
   "cell_type": "code",
   "execution_count": 27,
   "metadata": {},
   "outputs": [],
   "source": [
    "dbDump['shipMissiles'] = extract('navi_missili', ['idShip', 'version', 'idGroup'])"
   ]
  },
  {
   "cell_type": "code",
   "execution_count": 28,
   "metadata": {},
   "outputs": [],
   "source": [
    "dbDump['shipMissileGroups'] = extract('navi_missili_gruppi', ['id', 'idMissile', 'version'])"
   ]
  },
  {
   "cell_type": "code",
   "execution_count": 29,
   "metadata": {},
   "outputs": [],
   "source": [
    "dbDump['shipProduction'] = extract('navi_produzione', ['idShip', 'version', 'cr', 'time', 'cells', 'teladianium',\n",
    "                                                       'rimes', 'oil', 'ore', 'wafers', 'crystals', 'tubes',\n",
    "                                                       'microchips', 'components', 'nividium'])"
   ]
  },
  {
   "cell_type": "code",
   "execution_count": 30,
   "metadata": {},
   "outputs": [],
   "source": [
    "dbDump['objMain'] = extract('obj_main', ['id''name'])"
   ]
  },
  {
   "cell_type": "code",
   "execution_count": 31,
   "metadata": {},
   "outputs": [],
   "source": [
    "dbDump['objSubtypeShip'] = extract('obj_subtype_ship', ['sub', 'main', 'idShip', 'idGame'])"
   ]
  },
  {
   "cell_type": "code",
   "execution_count": 32,
   "metadata": {},
   "outputs": [],
   "source": [
    "dbDump['objSubtypeStation'] =  extract('obj_subtype_station', ['sub', 'main', 'idStation', 'idGame'])"
   ]
  },
  {
   "cell_type": "code",
   "execution_count": 33,
   "metadata": {},
   "outputs": [],
   "source": [
    "dbDump['products'] = extract('prodotti', ['id', 'name' 'descr', 'cargo', 'type', 'crMin', 'crMed', 'crMax', \n",
    "                                          'idTipo', 'idGgame'])"
   ]
  },
  {
   "cell_type": "code",
   "execution_count": 34,
   "metadata": {},
   "outputs": [],
   "source": [
    "dbDump['productTypes'] = extract('prodotti_tipo', ['id', 'name', 'descr'])"
   ]
  },
  {
   "cell_type": "code",
   "execution_count": 35,
   "metadata": {},
   "outputs": [],
   "source": [
    "dbDump['races'] = extract('razze', ['id', 'name', 'extended'])"
   ]
  },
  {
   "cell_type": "code",
   "execution_count": 36,
   "metadata": {},
   "outputs": [],
   "source": [
    "dbDump['shields'] = extract('scudi', ['id', 'idProduct', 'energy', 'enRechanrge',\n",
    "                                      'rechanrgeRate', 'rechargeTime', 'idType'])"
   ]
  },
  {
   "cell_type": "code",
   "execution_count": 37,
   "metadata": {},
   "outputs": [],
   "source": [
    "dbDump['shieldTypes'] = extract('scudi_tipo', ['id', 'name', 'descr'])"
   ]
  },
  {
   "cell_type": "code",
   "execution_count": 38,
   "metadata": {},
   "outputs": [],
   "source": [
    "dbDump['sectors'] = extract('settori', ['name', 'descr', 'x', 'y', 'sun', 'idRace', 'size', 'core',\n",
    "                                        'qtrade', 'qfight', 'qbuild', 'qthink',  'version'])"
   ]
  },
  {
   "cell_type": "code",
   "execution_count": 39,
   "metadata": {},
   "outputs": [],
   "source": [
    "dbDump['sectorAteroids'] = extract('settori_asteroidi', ['id', 'sector_x', 'sector_y', 's', 'x', 'y', 'z',\n",
    "                                                         'idProduct', 'yeld', 'version'])"
   ]
  },
  {
   "cell_type": "code",
   "execution_count": 40,
   "metadata": {},
   "outputs": [],
   "source": [
    "dbDump['sectorShipyardShips'] = extract('settori_cantieri_navi', ['id', 'idShip', 'version'])"
   ]
  },
  {
   "cell_type": "code",
   "execution_count": 41,
   "metadata": {},
   "outputs": [],
   "source": [
    "dbDump['sectorShipyardStations'] = extract('settori_cantieri_stazioni', ['id', 'idStation'])"
   ]
  },
  {
   "cell_type": "code",
   "execution_count": 42,
   "metadata": {},
   "outputs": [],
   "source": [
    "dbDump['sectorDebries'] = extract('settori_detriti', ['id', 'sector_x', 'sector_y', 's', 'x', 'y', 'z',\n",
    "                                                      'idProduct', 'yeld', 'id_versione'])"
   ]
  },
  {
   "cell_type": "code",
   "execution_count": 43,
   "metadata": {},
   "outputs": [],
   "source": [
    "dbDump['sectorGates'] = extract('settori_gate', ['start_x', 'start_y', 'end_x', 'end_y', 'idType',\n",
    "                                                 'x', 'y', 'z', 'version'])"
   ]
  },
  {
   "cell_type": "code",
   "execution_count": 44,
   "metadata": {},
   "outputs": [],
   "source": [
    "dbDump['sectorGateTypes'] = extract('settori_gate_tipo', ['id', 'name', 'descr'])"
   ]
  },
  {
   "cell_type": "code",
   "execution_count": 45,
   "metadata": {},
   "outputs": [],
   "source": [
    "dbDump['sectorShips'] = extract('settori_navi',['id', 'sector_x', 'sector_y', 'x', 'y', 'z',\n",
    "                                                'idRace', 'subtype_ship'])"
   ]
  },
  {
   "cell_type": "code",
   "execution_count": 46,
   "metadata": {},
   "outputs": [],
   "source": [
    "dbDump['sectorSpaceportEquipments'] = extract('settori_spazioporti_equipaggiamenti', ['id', 'id_equip'])"
   ]
  },
  {
   "cell_type": "code",
   "execution_count": 47,
   "metadata": {},
   "outputs": [],
   "source": [
    "dbDump['sectorSpaceportProducts'] = extract('settori_spazioporti_prodotti', ['id', 'idProduct', 'store'])"
   ]
  },
  {
   "cell_type": "code",
   "execution_count": 48,
   "metadata": {},
   "outputs": [],
   "source": [
    "dbDump['sectorStations'] = extract('settori_stazioni', ['id', 'sector_x', 'sector_y', 'x', 'y', 'z',\n",
    "                                              'idRace', 'subtype', 'maintype', 'n', 'version'])"
   ]
  },
  {
   "cell_type": "code",
   "execution_count": 49,
   "metadata": {},
   "outputs": [],
   "source": [
    "dbDump['stationClasses'] = extract('stazioni_classe', ['id', 'name', 'title', 'descr'])"
   ]
  },
  {
   "cell_type": "code",
   "execution_count": 50,
   "metadata": {},
   "outputs": [],
   "source": [
    "dbDump['stationProducts'] = extract('stazioni_prodotti', ['idProduct', 'time', 'num', 'storage'])"
   ]
  },
  {
   "cell_type": "code",
   "execution_count": 51,
   "metadata": {},
   "outputs": [],
   "source": [
    "dbDump['stationResources'] = extract('stazioni_risorse', ['idStation', 'idResource', 'num', 'storage'])"
   ]
  },
  {
   "cell_type": "code",
   "execution_count": 52,
   "metadata": {},
   "outputs": [],
   "source": [
    "dbDump['stationResourceSecondaries'] = extract('stazioni_risorse_secondarie', ['idStation', 'idResource', \n",
    "                                                                               'num', 'storage'])"
   ]
  },
  {
   "cell_type": "code",
   "execution_count": 53,
   "metadata": {},
   "outputs": [],
   "source": [
    "dbDump['stationTypes'] = extract('stazioni_tipo', ['id', 'name', 'factor'])"
   ]
  },
  {
   "cell_type": "code",
   "execution_count": 54,
   "metadata": {},
   "outputs": [],
   "source": [
    "dbDump['versions'] = extract('versione', ['id', 'game', 'tag'])"
   ]
  },
  {
   "cell_type": "code",
   "execution_count": 55,
   "metadata": {},
   "outputs": [
    {
     "name": "stdout",
     "output_type": "stream",
     "text": [
      "database-extraction.ipynb  pass.txt\r\n"
     ]
    }
   ],
   "source": [
    "ls"
   ]
  },
  {
   "cell_type": "code",
   "execution_count": 56,
   "metadata": {},
   "outputs": [],
   "source": [
    "for k in dbDump.keys():\n",
    "    with open('../db/' + k + '.json', 'w') as f:\n",
    "        json.dump(dbDump[k], f)"
   ]
  },
  {
   "cell_type": "code",
   "execution_count": 57,
   "metadata": {},
   "outputs": [],
   "source": [
    "with open('../db/dump.json', 'w') as f:\n",
    "    json.dump(dbDump, f)"
   ]
  }
 ],
 "metadata": {
  "kernelspec": {
   "display_name": "Python 3",
   "language": "python",
   "name": "python3"
  },
  "language_info": {
   "codemirror_mode": {
    "name": "ipython",
    "version": 3
   },
   "file_extension": ".py",
   "mimetype": "text/x-python",
   "name": "python",
   "nbconvert_exporter": "python",
   "pygments_lexer": "ipython3",
   "version": "3.5.5"
  }
 },
 "nbformat": 4,
 "nbformat_minor": 2
}
